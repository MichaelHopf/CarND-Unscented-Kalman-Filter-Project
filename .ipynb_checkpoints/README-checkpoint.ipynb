{
 "cells": [
  {
   "cell_type": "markdown",
   "metadata": {},
   "source": [
    "# Unscented Kalman Filter"
   ]
  },
  {
   "cell_type": "markdown",
   "metadata": {},
   "source": [
    "In this project, I implemented an __Unscented Kalman Filter__ in C++ that receives Lidar and Radar input data to estimate an object's position and velocity in the plane.\n",
    "\n",
    "My submissions includes the following files:\n",
    "\n",
    "- __ukf.cpp__: Implementation of the Unscented Kalman Filter (UKF) with proper initialization. It contains the functions ProcessMeasurement, Prediction, UpdateLidar, and UpdateRadar.\n",
    "- __ukf.h__: Corresponding header-file. Initialization of some additional variables.\n",
    "- __tools.cpp__: Calculation of the root mean squared error compared to the ground truth."
   ]
  },
  {
   "cell_type": "markdown",
   "metadata": {},
   "source": [
    "![alt text](./pic.PNG \"Unscented Kalman Filter\")"
   ]
  },
  {
   "cell_type": "markdown",
   "metadata": {},
   "source": [
    "## Project Specifications"
   ]
  },
  {
   "cell_type": "markdown",
   "metadata": {},
   "source": [
    "In the following, I will address all rubric points."
   ]
  },
  {
   "cell_type": "markdown",
   "metadata": {},
   "source": [
    "### Compiling\n",
    "\n",
    "My operating system is Windows 10. I used _Bash on Ubuntu on Windows_. All coding was done in C++. The code compliles without errors."
   ]
  },
  {
   "cell_type": "markdown",
   "metadata": {},
   "source": [
    "### Accuracy\n",
    "\n",
    "To meet the specifications, the RMSE of [px, py,vx, vy] must be lower or equal to [.09, .10, .40, .30] on the first dataset. The following table shows my results:\n",
    "\n",
    "| Used sensors | RMSE |\n",
    "| :------------: |  ----: |\n",
    "| both | .069 .080 .286 .215 |\n",
    "| lidar | .099 .096 .526 .351 |\n",
    "| radar | .153 .226 .320 .316 |"
   ]
  },
  {
   "cell_type": "markdown",
   "metadata": {},
   "source": [
    "### Correct Algorithm\n",
    "\n",
    "I implemented the Unscented Kalman filter in the .cpp files mentioned above. In particular, I implemented the initialization and the update steps for both sensors.\n",
    "\n",
    "To initialize the variables x, P, std_a, std_yawdd, I implemented the Normalized Innovation Squared (NIS). The NIS is Chi-Squared distributed and this helps to indicate in which way one has to change the initial values to better the UKF."
   ]
  },
  {
   "cell_type": "markdown",
   "metadata": {},
   "source": [
    "### Code Efficiency\n",
    "\n",
    "For all calculations, I stored all values that are reused in separate variables. This increases the memory amount used but the speed of the algorithm benefits. This is important since these algorithms have to run in real-time."
   ]
  },
  {
   "cell_type": "markdown",
   "metadata": {},
   "source": [
    "## Discussion\n",
    "\n",
    "We can see that the UKF achieves good results. If we only use the radar or the lidar sensor, the results are slightly worse. In particular, lidar seems to better predict the position and radar seems to better predict the velocity of the object.\n",
    "\n",
    "If we compare the UKF to the EKF from last lesson, we obtain:\n",
    "\n",
    "| Filter | RMSE |\n",
    "| :------------: |  ----: |\n",
    "| UKF | .069 .080 .286 .215 |\n",
    "| EKF | .098 .085 .409 .470 |\n",
    "\n",
    "We can see that the UKF seems to work better than the EKF, especially in terms of velocity."
   ]
  }
 ],
 "metadata": {
  "kernelspec": {
   "display_name": "Python 3",
   "language": "python",
   "name": "python3"
  },
  "language_info": {
   "codemirror_mode": {
    "name": "ipython",
    "version": 3
   },
   "file_extension": ".py",
   "mimetype": "text/x-python",
   "name": "python",
   "nbconvert_exporter": "python",
   "pygments_lexer": "ipython3",
   "version": "3.5.2"
  },
  "widgets": {
   "state": {},
   "version": "1.1.2"
  }
 },
 "nbformat": 4,
 "nbformat_minor": 2
}
